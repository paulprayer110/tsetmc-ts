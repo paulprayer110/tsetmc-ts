{
 "cells": [
  {
   "cell_type": "code",
   "execution_count": 1,
   "id": "3f40ebe0",
   "metadata": {},
   "outputs": [],
   "source": [
    "import pandas as pd\n",
    "pd.set_option('display.max_rows', 1000)\n",
    "from glob import glob\n",
    "from persiantools import characters"
   ]
  },
  {
   "cell_type": "code",
   "execution_count": 2,
   "id": "a237b2c0",
   "metadata": {},
   "outputs": [],
   "source": [
    "path = 'C:/Users/Sarv/Downloads/test/gohar/'\n",
    "files = glob(path + '*_1.csv')\n",
    "files_5 = glob(path + '*_5.csv')\n",
    "files_8 = glob(path + '*_8.csv')"
   ]
  },
  {
   "cell_type": "code",
   "execution_count": 13,
   "id": "a2941d03",
   "metadata": {},
   "outputs": [],
   "source": [
    "df2 = pd.read_csv(files[0])[['stock_name','vol_current']]\n",
    "for file in files[1:19]:\n",
    "    df=pd.read_csv(file)[['stock_name','vol_current']]\n",
    "    df2 = df2.merge(df,how='outer',on='stock_name')\n",
    "df2.dropna(how='all',inplace=True)\n",
    "df2.columns = ['stock_name','13990431','13990531'\n",
    "               ,'13990631','13990730','13990830','13990930'\n",
    "               ,'13991030','13991130','13991230'\n",
    "              ,'14000131','14000231','14000331'\n",
    "              ,'14000431','14000531','14000631'\n",
    "              ,'14000730','14000830','14000930'\n",
    "              ,'14001030']\n",
    "df2.fillna(0, inplace=True)\n",
    "df2.to_csv(path + 'stock_portfolio_vol.csv', encoding='utf_8_sig', index=False)"
   ]
  },
  {
   "cell_type": "code",
   "execution_count": 14,
   "id": "cb464905",
   "metadata": {},
   "outputs": [],
   "source": [
    "df3 = pd.read_csv(files_5[0])[['deposit_name','bal_current']]\n",
    "for file in files_5[1:19]:\n",
    "    df4=pd.read_csv(file)[['deposit_name','bal_current']]\n",
    "    df3 = df3.merge(df4,how='outer',on='deposit_name')\n",
    "df3.dropna(how='all', inplace=True)\n",
    "df3.columns = ['stock_name','13990431','13990531'\n",
    "               ,'13990630','13990730','13990830','13990930'\n",
    "               ,'13991030','13991130','13991230'\n",
    "               ,'14000131','14000231','14000331','14000431'\n",
    "              ,'14000531','14000631','14000730','14000830'\n",
    "              ,'14000930','14001030']\n",
    "df3.fillna(0, inplace=True)\n",
    "df3.to_csv(path + 'deposit_portfolio_bal.csv', encoding='utf_8_sig', index=False)"
   ]
  },
  {
   "cell_type": "code",
   "execution_count": 15,
   "id": "5ec4a073",
   "metadata": {},
   "outputs": [],
   "source": [
    "df5 = pd.read_csv(files_8[0])[['deposit_name','net_income_current']]\n",
    "for file in files_8[1:19]:\n",
    "    df6=pd.read_csv(file)[['deposit_name','net_income_current']]\n",
    "    df5 = df5.merge(df4,how='outer',on='deposit_name')\n",
    "df5.dropna(how='all', inplace=True)\n",
    "df5.columns = ['stock_name','13990431','13990531'\n",
    "               ,'13990630','13990730','13990830','13990930'\n",
    "               ,'13991030','13991130','13991230'\n",
    "               ,'14000131','14000231','14000331','14000431'\n",
    "              ,'14000531','14000631','14000730','14000830'\n",
    "              ,'14000930','14001030']\n",
    "df5.fillna(0, inplace=True)\n",
    "df5.to_csv(path + 'deposit_income.csv', encoding='utf_8_sig', index=False)"
   ]
  }
 ],
 "metadata": {
  "kernelspec": {
   "display_name": "Python 3",
   "language": "python",
   "name": "python3"
  },
  "language_info": {
   "codemirror_mode": {
    "name": "ipython",
    "version": 3
   },
   "file_extension": ".py",
   "mimetype": "text/x-python",
   "name": "python",
   "nbconvert_exporter": "python",
   "pygments_lexer": "ipython3",
   "version": "3.8.8"
  }
 },
 "nbformat": 4,
 "nbformat_minor": 5
}
